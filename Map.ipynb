{
 "cells": [
  {
   "cell_type": "code",
   "execution_count": 99,
   "metadata": {},
   "outputs": [],
   "source": [
    "import pandas as pd\n",
    "import numpy as np\n",
    "import seaborn as sns"
   ]
  },
  {
   "cell_type": "code",
   "execution_count": 100,
   "metadata": {},
   "outputs": [],
   "source": [
    "def data_frame(data):\n",
    "    df = pd.read_csv(data, encoding=\"utf-8-sig\")\n",
    "    return df"
   ]
  },
  {
   "cell_type": "code",
   "execution_count": 101,
   "metadata": {},
   "outputs": [
    {
     "name": "stdout",
     "output_type": "stream",
     "text": [
      "           Name  Voltage  Start point Station  Voltage startpoint  \\\n",
      "0      Handewitt  380/110            Handewitt                380   \n",
      "1      Handewitt  380/110            Handewitt                380   \n",
      "2      Handewitt  380/110            Handewitt                380   \n",
      "3     Shuby West  380/110           Shuby West                380   \n",
      "4  Helping Bus 3  380/110        Helping Bus 3            380/110   \n",
      "\n",
      "  End point substation  Voltage Endpoint Latitude start point  \\\n",
      "0             Jardelund              380             54.72782   \n",
      "1            Shuby West              380             54.72782   \n",
      "2            Audorf sud              380             54.72782   \n",
      "3            Audorf sud              380            54.521938   \n",
      "4         Helping Bus 4          380/110            54.791209   \n",
      "\n",
      "   Longitude start point Latitude end point   longitude end point  \n",
      "0               9.314293           54.852142             9.196651  \n",
      "1               9.314293           54.521938             9.435164  \n",
      "2               9.314293           54.288496             9.724671  \n",
      "3               9.435164           54.288496             9.724671  \n",
      "4               8.874628            54.51254             9.074286  \n"
     ]
    }
   ],
   "source": [
    "df = data_frame(\"Substation/Substations.csv\")\n",
    "df2 = data_frame(\"Substation/Substations3 110.csv\")\n",
    "df3 = data_frame(\"Substation/Substations3 220.csv\")\n",
    "df4 = data_frame(\"Substation/Substations3 380.csv\")\n",
    "print (df4.head())"
   ]
  },
  {
   "cell_type": "code",
   "execution_count": 102,
   "metadata": {},
   "outputs": [
    {
     "name": "stdout",
     "output_type": "stream",
     "text": [
      "           Name  Voltage  Start point Station  Voltage startpoint  \\\n",
      "0      Handewitt  380/110            Handewitt                380   \n",
      "1      Handewitt  380/110            Handewitt                380   \n",
      "2      Handewitt  380/110            Handewitt                380   \n",
      "3     Shuby West  380/110           Shuby West                380   \n",
      "4  Helping Bus 3  380/110        Helping Bus 3            380/110   \n",
      "\n",
      "  End point substation  Voltage Endpoint Latitude start point  \\\n",
      "0             Jardelund              380             54.72782   \n",
      "1            Shuby West              380             54.72782   \n",
      "2            Audorf sud              380             54.72782   \n",
      "3            Audorf sud              380            54.521938   \n",
      "4         Helping Bus 4          380/110            54.791209   \n",
      "\n",
      "   Longitude start point Latitude end point   longitude end point  \n",
      "0               9.314293           54.852142             9.196651  \n",
      "1               9.314293           54.521938             9.435164  \n",
      "2               9.314293           54.288496             9.724671  \n",
      "3               9.435164           54.288496             9.724671  \n",
      "4               8.874628            54.51254             9.074286  \n"
     ]
    }
   ],
   "source": [
    "# print(df.head())\n",
    "# print(df2.head())\n",
    "# print(df3.head())\n",
    "print(df4.head())"
   ]
  },
  {
   "cell_type": "code",
   "execution_count": 103,
   "metadata": {},
   "outputs": [
    {
     "name": "stdout",
     "output_type": "stream",
     "text": [
      "Index(['1', 'Name', 'Voltage (KV)', 'Latitude', 'Longitude'], dtype='object')\n",
      "Index(['Name', 'Voltage', 'Start point Station', 'Voltage startpoint',\n",
      "       'End point substation', 'Voltage Endpoint', 'Latitude start point',\n",
      "       'Longitude start point', 'Latitude end point', 'longitude end point',\n",
      "       'Unnamed: 10', 'Unnamed: 11'],\n",
      "      dtype='object')\n",
      "Index(['Name', 'Voltage', 'Start point Station', 'Voltage startpoint',\n",
      "       'End point substation', 'Voltage Endpoint', 'Latitude start point',\n",
      "       'Longitude start point', 'Latitude end point', 'longitude end point'],\n",
      "      dtype='object')\n",
      "Index(['Name', 'Voltage', 'Start point Station', 'Voltage startpoint',\n",
      "       'End point substation', 'Voltage Endpoint', 'Latitude start point',\n",
      "       'Longitude start point', 'Latitude end point', 'longitude end point'],\n",
      "      dtype='object')\n"
     ]
    }
   ],
   "source": [
    "df.columns = df.columns.str.strip()\n",
    "df2.columns = df2.columns.str.strip()\n",
    "df3.columns = df3.columns.str.strip()\n",
    "df4.columns = df4.columns.str.strip()\n",
    "print(df.columns)\n",
    "print(df2.columns)\n",
    "print(df3.columns)\n",
    "print(df4.columns)\n"
   ]
  },
  {
   "cell_type": "markdown",
   "metadata": {},
   "source": [
    "strip spaces\n"
   ]
  },
  {
   "cell_type": "code",
   "execution_count": 104,
   "metadata": {},
   "outputs": [
    {
     "name": "stdout",
     "output_type": "stream",
     "text": [
      "            Name  Voltage Start point Station Voltage startpoint  \\\n",
      "0      Handewitt  380/110           Handewitt                380   \n",
      "1      Handewitt  380/110           Handewitt                380   \n",
      "2      Handewitt  380/110           Handewitt                380   \n",
      "3     Shuby West  380/110          Shuby West                380   \n",
      "4  Helping Bus 3  380/110       Helping Bus 3            380/110   \n",
      "\n",
      "  End point substation Voltage Endpoint Latitude start point  \\\n",
      "0            Jardelund              380             54.72782   \n",
      "1           Shuby West              380             54.72782   \n",
      "2           Audorf sud              380             54.72782   \n",
      "3           Audorf sud              380            54.521938   \n",
      "4        Helping Bus 4          380/110            54.791209   \n",
      "\n",
      "   Longitude start point Latitude end point  longitude end point  \n",
      "0               9.314293          54.852142             9.196651  \n",
      "1               9.314293          54.521938             9.435164  \n",
      "2               9.314293          54.288496             9.724671  \n",
      "3               9.435164          54.288496             9.724671  \n",
      "4               8.874628           54.51254             9.074286  \n"
     ]
    }
   ],
   "source": [
    "df = df.applymap(lambda x: x.strip() if isinstance(x, str) else x)\n",
    "df2 = df2.applymap(lambda x: x.strip() if isinstance(x, str) else x)\n",
    "df3 = df3.applymap(lambda x: x.strip() if isinstance(x, str) else x)\n",
    "df4 = df4.applymap(lambda x: x.strip() if isinstance(x, str) else x)\n",
    "print(df4.head())"
   ]
  },
  {
   "cell_type": "markdown",
   "metadata": {},
   "source": [
    "replace - with empty space\n"
   ]
  },
  {
   "cell_type": "code",
   "execution_count": 105,
   "metadata": {},
   "outputs": [
    {
     "name": "stdout",
     "output_type": "stream",
     "text": [
      "            Name  Voltage Start point Station Voltage startpoint  \\\n",
      "0      Handewitt  380/110           Handewitt                380   \n",
      "1      Handewitt  380/110           Handewitt                380   \n",
      "2      Handewitt  380/110           Handewitt                380   \n",
      "3     Shuby West  380/110          Shuby West                380   \n",
      "4  Helping Bus 3  380/110       Helping Bus 3            380/110   \n",
      "\n",
      "  End point substation Voltage Endpoint Latitude start point  \\\n",
      "0            Jardelund              380             54.72782   \n",
      "1           Shuby West              380             54.72782   \n",
      "2           Audorf sud              380             54.72782   \n",
      "3           Audorf sud              380            54.521938   \n",
      "4        Helping Bus 4          380/110            54.791209   \n",
      "\n",
      "   Longitude start point Latitude end point  longitude end point  \n",
      "0               9.314293          54.852142             9.196651  \n",
      "1               9.314293          54.521938             9.435164  \n",
      "2               9.314293          54.288496             9.724671  \n",
      "3               9.435164          54.288496             9.724671  \n",
      "4               8.874628           54.51254             9.074286  \n"
     ]
    }
   ],
   "source": [
    "df = df.applymap(lambda x: x.replace(\"-\", \"\") if isinstance(x, str) else x)\n",
    "df2 = df2.applymap(lambda x: x.replace(\"-\", \"\") if isinstance(x, str) else x)\n",
    "df3 = df3.applymap(lambda x: x.replace(\"-\", \"\") if isinstance(x, str) else x)\n",
    "df4 = df4.applymap(lambda x: x.replace(\"-\", \"\") if isinstance(x, str) else x)\n",
    "print(df4.head())"
   ]
  },
  {
   "cell_type": "markdown",
   "metadata": {},
   "source": [
    "remove encoding artifacts if any\n"
   ]
  },
  {
   "cell_type": "code",
   "execution_count": 106,
   "metadata": {},
   "outputs": [
    {
     "name": "stdout",
     "output_type": "stream",
     "text": [
      "            Name  Voltage Start point Station Voltage startpoint  \\\n",
      "0      Handewitt  380/110           Handewitt                380   \n",
      "1      Handewitt  380/110           Handewitt                380   \n",
      "2      Handewitt  380/110           Handewitt                380   \n",
      "3     Shuby West  380/110          Shuby West                380   \n",
      "4  Helping Bus 3  380/110       Helping Bus 3            380/110   \n",
      "\n",
      "  End point substation Voltage Endpoint Latitude start point  \\\n",
      "0            Jardelund              380             54.72782   \n",
      "1           Shuby West              380             54.72782   \n",
      "2           Audorf sud              380             54.72782   \n",
      "3           Audorf sud              380            54.521938   \n",
      "4        Helping Bus 4          380/110            54.791209   \n",
      "\n",
      "   Longitude start point Latitude end point  longitude end point  \n",
      "0               9.314293          54.852142             9.196651  \n",
      "1               9.314293          54.521938             9.435164  \n",
      "2               9.314293          54.288496             9.724671  \n",
      "3               9.435164          54.288496             9.724671  \n",
      "4               8.874628           54.51254             9.074286  \n"
     ]
    }
   ],
   "source": [
    "df= df.applymap(lambda x: x.replace(\"Â\",\" \").replace(\"Â¼\",\" \").replace(\"Ã\",\" \").strip() if isinstance(x, str) else x)\n",
    "# print(df)\n",
    "df2= df2.applymap(lambda x: x.replace(\"Â\",\" \").replace(\"Â¼\",\" \").replace(\"Ã\",\" \").strip() if isinstance(x, str) else x)\n",
    "# print(df2) \n",
    "df3= df3.applymap(lambda x: x.replace(\"Â\",\" \").replace(\"Â¼\",\" \").replace(\"Ã\",\" \").strip() if isinstance(x, str) else x)\n",
    "# print(df3)\n",
    "df4= df4.applymap(lambda x: x.replace(\"Â\",\" \").replace(\"Â¼\",\" \").replace(\"Ã\",\" \").strip() if isinstance(x, str) else x)\n",
    "print(df4.head()) "
   ]
  },
  {
   "cell_type": "markdown",
   "metadata": {},
   "source": [
    "Change the names of the Headings\n"
   ]
  },
  {
   "cell_type": "code",
   "execution_count": 107,
   "metadata": {},
   "outputs": [],
   "source": [
    "df = df.rename(columns={'Voltage (KV)': 'Voltage'})\n",
    "df2 = df2.rename(columns={'Voltage startpoint': 'Volstat','Voltage Endpoint': 'Volend', \"Latitude start point\":\"Latstat\",\"Longitude start point\":\"Longstat\",\n",
    "                          \"Latitude end point\":\"Latend\", \"longitude end point\":\"Longend\",'Voltage (KV)': 'Voltage'})\n",
    "df3 = df3.rename(columns={'Voltage startpoint': 'Volstat','Voltage Endpoint': 'Volend', \"Latitude start point\":\"Latstat\",\"Longitude start point\":\"Longstat\",\n",
    "                          \"Latitude end point\":\"Latend\", \"longitude end point\":\"Longend\",'Voltage (KV)': 'Voltage'})\n",
    "df4 = df4.rename(columns={'Voltage startpoint': 'Volstat','Voltage Endpoint': 'Volend', \"Latitude start point\":\"Latstat\",\"Longitude start point\":\"Longstat\",\n",
    "                          \"Latitude end point\":\"Latend\", \"longitude end point\":\"Longend\",'Voltage (KV)': 'Voltage'})"
   ]
  },
  {
   "cell_type": "code",
   "execution_count": 108,
   "metadata": {},
   "outputs": [
    {
     "name": "stdout",
     "output_type": "stream",
     "text": [
      "Index(['1', 'Name', 'Voltage', 'Latitude', 'Longitude'], dtype='object')\n",
      "Index(['Name', 'Voltage', 'Start point Station', 'Volstat',\n",
      "       'End point substation', 'Volend', 'Latstat', 'Longstat', 'Latend',\n",
      "       'Longend', 'Unnamed: 10', 'Unnamed: 11'],\n",
      "      dtype='object')\n",
      "Index(['Name', 'Voltage', 'Start point Station', 'Volstat',\n",
      "       'End point substation', 'Volend', 'Latstat', 'Longstat', 'Latend',\n",
      "       'Longend'],\n",
      "      dtype='object')\n",
      "Index(['Name', 'Voltage', 'Start point Station', 'Volstat',\n",
      "       'End point substation', 'Volend', 'Latstat', 'Longstat', 'Latend',\n",
      "       'Longend'],\n",
      "      dtype='object')\n"
     ]
    }
   ],
   "source": [
    "print(df.columns)\n",
    "print(df2.columns)\n",
    "print(df3.columns)\n",
    "print(df4.columns)"
   ]
  },
  {
   "cell_type": "markdown",
   "metadata": {},
   "source": [
    "remove duplicate\n"
   ]
  },
  {
   "cell_type": "code",
   "execution_count": 109,
   "metadata": {},
   "outputs": [
    {
     "name": "stdout",
     "output_type": "stream",
     "text": [
      "            Name  Voltage Start point Station  Volstat End point substation  \\\n",
      "0      Handewitt  380/110           Handewitt      380            Jardelund   \n",
      "1      Handewitt  380/110           Handewitt      380           Shuby West   \n",
      "2      Handewitt  380/110           Handewitt      380           Audorf sud   \n",
      "3     Shuby West  380/110          Shuby West      380           Audorf sud   \n",
      "4  Helping Bus 3  380/110       Helping Bus 3  380/110        Helping Bus 4   \n",
      "\n",
      "    Volend    Latstat  Longstat     Latend   Longend  \n",
      "0      380   54.72782  9.314293  54.852142  9.196651  \n",
      "1      380   54.72782  9.314293  54.521938  9.435164  \n",
      "2      380   54.72782  9.314293  54.288496  9.724671  \n",
      "3      380  54.521938  9.435164  54.288496  9.724671  \n",
      "4  380/110  54.791209  8.874628   54.51254  9.074286  \n"
     ]
    }
   ],
   "source": [
    "df = df.drop_duplicates()\n",
    "df.reset_index(drop=True, inplace=True)\n",
    "df2 = df2.drop_duplicates()\n",
    "df2.reset_index(drop=True, inplace=True)\n",
    "df3 = df3.drop_duplicates()\n",
    "df3.reset_index(drop=True, inplace=True)\n",
    "df4 = df4.drop_duplicates()\n",
    "df4.reset_index(drop=True, inplace=True)\n",
    "print(df4.head())"
   ]
  },
  {
   "cell_type": "code",
   "execution_count": 110,
   "metadata": {},
   "outputs": [
    {
     "name": "stdout",
     "output_type": "stream",
     "text": [
      "object\n",
      "0      54.852142\n",
      "1      54.521938\n",
      "2      54.288496\n",
      "3      54.288496\n",
      "4       54.51254\n",
      "5      54.510525\n",
      "6     54.341165,\n",
      "7      53.897482\n",
      "8      54.288496\n",
      "9       53.92329\n",
      "10     53.878344\n",
      "11     53.851773\n",
      "12     53.864481\n",
      "13     53.847975\n",
      "14      53.69035\n",
      "15      53.69035\n",
      "16      53.54349\n",
      "17     53.898167\n",
      "18     53.916186\n",
      "19     53.896182\n",
      "20     53.908631\n",
      "21      53.97247\n",
      "22      54.16172\n",
      "23     53.897908\n",
      "24     54.510525\n",
      "25     54.795001\n",
      "Name: Latend, dtype: object\n"
     ]
    }
   ],
   "source": [
    "print(df4['Latstat'].dtype)  # Check the type of the column\n",
    "print(df4['Latend'])  "
   ]
  },
  {
   "cell_type": "markdown",
   "metadata": {},
   "source": [
    "Convert data types to intergers\n"
   ]
  },
  {
   "cell_type": "code",
   "execution_count": 111,
   "metadata": {},
   "outputs": [
    {
     "name": "stdout",
     "output_type": "stream",
     "text": [
      "            Name  Voltage Start point Station  Volstat End point substation  \\\n",
      "0      Handewitt  380/110           Handewitt      380            Jardelund   \n",
      "1      Handewitt  380/110           Handewitt      380           Shuby West   \n",
      "2      Handewitt  380/110           Handewitt      380           Audorf sud   \n",
      "3     Shuby West  380/110          Shuby West      380           Audorf sud   \n",
      "4  Helping Bus 3  380/110       Helping Bus 3  380/110        Helping Bus 4   \n",
      "\n",
      "    Volend    Latstat  Longstat     Latend   Longend  \n",
      "0      380  54.727820  9.314293  54.852142  9.196651  \n",
      "1      380  54.727820  9.314293  54.521938  9.435164  \n",
      "2      380  54.727820  9.314293  54.288496  9.724671  \n",
      "3      380  54.521938  9.435164  54.288496  9.724671  \n",
      "4  380/110  54.791209  8.874628  54.512540  9.074286  \n"
     ]
    }
   ],
   "source": [
    "df4['Latstat'] = pd.to_numeric(df4['Latstat'], errors='coerce')\n",
    "df4['Latend'] = pd.to_numeric(df4['Latend'], errors='coerce')\n",
    "df4['Longstat']=  pd.to_numeric(df4['Longstat'], errors='coerce')\n",
    "df4['Longend']=  pd.to_numeric(df4['Longend'], errors='coerce')\n",
    "\n",
    "df3['Latstat'] = pd.to_numeric(df3['Latstat'], errors='coerce')\n",
    "df3['Latend'] = pd.to_numeric(df3['Latend'], errors='coerce')\n",
    "df3['Longstat']=  pd.to_numeric(df3['Longstat'], errors='coerce')\n",
    "df3['Longend']=  pd.to_numeric(df3['Longend'], errors='coerce')\n",
    "\n",
    "df2['Latstat'] = pd.to_numeric(df2['Latstat'], errors='coerce')\n",
    "df2['Latend'] = pd.to_numeric(df2['Latend'], errors='coerce')\n",
    "df2['Longstat']=  pd.to_numeric(df2['Longstat'], errors='coerce')\n",
    "df2['Longend']=  pd.to_numeric(df2['Longend'], errors='coerce')\n",
    "\n",
    "df['Longitude'] = pd.to_numeric(df['Longitude'], errors='coerce')\n",
    "df['Latitude'] = pd.to_numeric(df['Latitude'], errors='coerce')\n",
    "\n",
    "print(df4.head())\n"
   ]
  },
  {
   "cell_type": "code",
   "execution_count": 112,
   "metadata": {},
   "outputs": [
    {
     "name": "stdout",
     "output_type": "stream",
     "text": [
      "            Name  Voltage Start point Station  Volstat End point substation  \\\n",
      "0      Handewitt  380/110           Handewitt      380            Jardelund   \n",
      "1      Handewitt  380/110           Handewitt      380           Shuby West   \n",
      "2      Handewitt  380/110           Handewitt      380           Audorf sud   \n",
      "3     Shuby West  380/110          Shuby West      380           Audorf sud   \n",
      "4  Helping Bus 3  380/110       Helping Bus 3  380/110        Helping Bus 4   \n",
      "\n",
      "    Volend    Latstat  Longstat     Latend   Longend  \n",
      "0      380  54.727820  9.314293  54.852142  9.196651  \n",
      "1      380  54.727820  9.314293  54.521938  9.435164  \n",
      "2      380  54.727820  9.314293  54.288496  9.724671  \n",
      "3      380  54.521938  9.435164  54.288496  9.724671  \n",
      "4  380/110  54.791209  8.874628  54.512540  9.074286  \n"
     ]
    }
   ],
   "source": [
    "\n",
    "print(df4.head())"
   ]
  },
  {
   "cell_type": "code",
   "execution_count": 113,
   "metadata": {},
   "outputs": [
    {
     "name": "stdout",
     "output_type": "stream",
     "text": [
      "       1               Name      Voltage   Latitude  Longitude\n",
      "0      2            Wilster          380  53.923290   9.345835\n",
      "1      3         Audorf Sud  380/220/110  54.288496   9.724671\n",
      "2      4             Buttel  380/220/150  53.916186   9.235200\n",
      "3      5           Kiel Sud      220/110  54.275918  10.155970\n",
      "4      6          Barkelsby          110  54.498010   9.832892\n",
      "..   ...                ...          ...        ...        ...\n",
      "236  241   Substation Adj 8          110  53.525926  10.267872\n",
      "237  242   Substation adj 9          110  53.528125  10.233408\n",
      "238  243  Substation Adj 10          110  53.567290  10.190967\n",
      "239  244          Barkhorst          110  53.762860  10.402540\n",
      "240  245        Sandesneben          110  53.685471  10.483374\n",
      "\n",
      "[241 rows x 5 columns]\n"
     ]
    }
   ],
   "source": [
    "df.loc[df['Longitude'].isna(), 'Longitude'] = 0\n",
    "df.loc[df['Latitude'].isna(),'Latitude'] = 0\n",
    "print(df)\n"
   ]
  },
  {
   "cell_type": "code",
   "execution_count": 114,
   "metadata": {},
   "outputs": [
    {
     "name": "stdout",
     "output_type": "stream",
     "text": [
      "       1               Name      Voltage   Latitude  Longitude\n",
      "0      2            Wilster          380  53.923290   9.345835\n",
      "1      3         Audorf Sud  380/220/110  54.288496   9.724671\n",
      "2      4             Buttel  380/220/150  53.916186   9.235200\n",
      "3      5           Kiel Sud      220/110  54.275918  10.155970\n",
      "4      6          Barkelsby          110  54.498010   9.832892\n",
      "..   ...                ...          ...        ...        ...\n",
      "236  241   Substation Adj 8          110  53.525926  10.267872\n",
      "237  242   Substation adj 9          110  53.528125  10.233408\n",
      "238  243  Substation Adj 10          110  53.567290  10.190967\n",
      "239  244          Barkhorst          110  53.762860  10.402540\n",
      "240  245        Sandesneben          110  53.685471  10.483374\n",
      "\n",
      "[241 rows x 5 columns]\n"
     ]
    }
   ],
   "source": [
    "df=df.dropna(subset=[\"Longitude\"])\n",
    "df=df.dropna(subset=[\"Latitude\"])\n",
    "\n",
    "df = df\n",
    "print(df)"
   ]
  },
  {
   "cell_type": "code",
   "execution_count": 115,
   "metadata": {},
   "outputs": [
    {
     "name": "stdout",
     "output_type": "stream",
     "text": [
      "Data_frame is written successfully to Substation/Substations2.csv\n",
      "Data_frame is written successfully to Substation/Substations4.csv\n",
      "Data_frame is written successfully to Substation/Substations6.csv\n",
      "Data_frame is written successfully to Substation/Substations8.csv\n"
     ]
    }
   ],
   "source": [
    "file_name = \"Substation/Substations2.csv\"\n",
    "df.to_csv(file_name, index=False)\n",
    "file_name2 = \"Substation/Substations4.csv\"\n",
    "df2.to_csv(file_name2, index=False)\n",
    "file_name3 = \"Substation/Substations6.csv\"\n",
    "df3.to_csv(file_name3, index=False)\n",
    "file_name4 = \"Substation/Substations8.csv\"\n",
    "df4.to_csv(file_name4, index=False)\n",
    "print(f\"Data_frame is written successfully to {file_name}\")\n",
    "print(f\"Data_frame is written successfully to {file_name2}\")\n",
    "print(f\"Data_frame is written successfully to {file_name3}\")\n",
    "print(f\"Data_frame is written successfully to {file_name4}\")\n",
    "\n"
   ]
  }
 ],
 "metadata": {
  "kernelspec": {
   "display_name": "base",
   "language": "python",
   "name": "python3"
  },
  "language_info": {
   "codemirror_mode": {
    "name": "ipython",
    "version": 3
   },
   "file_extension": ".py",
   "mimetype": "text/x-python",
   "name": "python",
   "nbconvert_exporter": "python",
   "pygments_lexer": "ipython3",
   "version": "3.11.5"
  }
 },
 "nbformat": 4,
 "nbformat_minor": 2
}
